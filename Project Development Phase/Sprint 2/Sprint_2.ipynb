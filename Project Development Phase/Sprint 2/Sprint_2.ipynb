{
  "nbformat": 4,
  "nbformat_minor": 0,
  "metadata": {
    "colab": {
      "provenance": [],
      "collapsed_sections": []
    },
    "kernelspec": {
      "name": "python3",
      "display_name": "Python 3"
    },
    "language_info": {
      "name": "python"
    }
  },
  "cells": [
    {
      "cell_type": "code",
      "execution_count": null,
      "metadata": {
        "id": "HZB4wI_dv04J"
      },
      "outputs": [],
      "source": [
        "import numpy as np"
      ]
    },
    {
      "cell_type": "code",
      "source": [
        "from google.colab import drive\n",
        "drive.mount('/content/drive')"
      ],
      "metadata": {
        "id": "_09_DTKlyZGN",
        "colab": {
          "base_uri": "https://localhost:8080/"
        },
        "outputId": "4e67cfb4-e911-4147-a58d-476699f1b1b9"
      },
      "execution_count": null,
      "outputs": [
        {
          "output_type": "stream",
          "name": "stdout",
          "text": [
            "Mounted at /content/drive\n"
          ]
        }
      ]
    },
    {
      "cell_type": "code",
      "source": [
        "import tensorflow "
      ],
      "metadata": {
        "id": "zBZZQ6jwwDtZ"
      },
      "execution_count": null,
      "outputs": []
    },
    {
      "cell_type": "code",
      "source": [
        "from tensorflow.keras.models import Sequential "
      ],
      "metadata": {
        "id": "upeToSBfwKon"
      },
      "execution_count": null,
      "outputs": []
    },
    {
      "cell_type": "code",
      "source": [
        "from tensorflow.keras import layers"
      ],
      "metadata": {
        "id": "8iA5YOa1wO-X"
      },
      "execution_count": null,
      "outputs": []
    },
    {
      "cell_type": "code",
      "source": [
        "from tensorflow.keras.layers import Dense, Flatten"
      ],
      "metadata": {
        "id": "N-s3AfmnwSoF"
      },
      "execution_count": null,
      "outputs": []
    },
    {
      "cell_type": "code",
      "source": [
        "from tensorflow.keras.layers import Conv2D, MaxPooling2D,Dropout"
      ],
      "metadata": {
        "id": "VRgIXTTkwYva"
      },
      "execution_count": null,
      "outputs": []
    },
    {
      "cell_type": "code",
      "source": [
        "from keras.preprocessing.image import ImageDataGenerator\n"
      ],
      "metadata": {
        "id": "zK0efo6twgqb"
      },
      "execution_count": null,
      "outputs": []
    },
    {
      "cell_type": "code",
      "source": [
        "from google.colab import drive\n",
        "drive.mount('/content/drive')\n",
        "\n",
        "\n"
      ],
      "metadata": {
        "colab": {
          "base_uri": "https://localhost:8080/"
        },
        "id": "Q494Okm3wosL",
        "outputId": "94a29212-696d-473a-b838-98315cf57552"
      },
      "execution_count": null,
      "outputs": [
        {
          "output_type": "stream",
          "name": "stdout",
          "text": [
            "Drive already mounted at /content/drive; to attempt to forcibly remount, call drive.mount(\"/content/drive\", force_remount=True).\n"
          ]
        }
      ]
    },
    {
      "cell_type": "code",
      "source": [
        "import tensorflow as tf\n"
      ],
      "metadata": {
        "id": "5qLuktVOwo0n"
      },
      "execution_count": null,
      "outputs": []
    },
    {
      "cell_type": "code",
      "source": [
        "from tensorflow.keras import datasets, layers, models\n",
        "import matplotlib.pyplot as plt\n"
      ],
      "metadata": {
        "id": "iyJ2fIZ15dlz"
      },
      "execution_count": null,
      "outputs": []
    },
    {
      "cell_type": "code",
      "source": [
        "(train_images, train_labels), (test_images, test_labels) =datasets.cifar10.load_data()\n"
      ],
      "metadata": {
        "colab": {
          "base_uri": "https://localhost:8080/"
        },
        "id": "OX8Z7Q1y5hpu",
        "outputId": "cc696cee-d960-49a0-bf04-e37b7088acee"
      },
      "execution_count": null,
      "outputs": [
        {
          "output_type": "stream",
          "name": "stdout",
          "text": [
            "Downloading data from https://www.cs.toronto.edu/~kriz/cifar-10-python.tar.gz\n",
            "170498071/170498071 [==============================] - 5s 0us/step\n"
          ]
        }
      ]
    },
    {
      "cell_type": "code",
      "source": [
        "train_images, test_images = train_images / 255.0, test_images / 255.0"
      ],
      "metadata": {
        "id": "xAwKGx-J5sPC"
      },
      "execution_count": null,
      "outputs": []
    },
    {
      "cell_type": "code",
      "source": [
        "model = models.Sequential()\n",
        "model.add(layers.Conv2D(32, (3, 3),\n",
        "activation='relu',\n",
        "input_shape=(32, 32, 3)))\n",
        "model.add(layers.MaxPooling2D((2, 2)))\n",
        "model.add(layers.Conv2D(64, (3, 3), activation='relu'))\n",
        "model.add(layers.MaxPooling2D((2, 2)))\n",
        "model.add(layers.Conv2D(64, (3, 3), activation='relu'))\n",
        "model.add(layers.Flatten())\n",
        "model.add(layers.Dense(64, activation='relu'))\n",
        "model.add(layers.Dense(10))"
      ],
      "metadata": {
        "id": "5G44_oC451zK"
      },
      "execution_count": null,
      "outputs": []
    },
    {
      "cell_type": "code",
      "source": [],
      "metadata": {
        "id": "6xTeTFacEioG"
      },
      "execution_count": null,
      "outputs": []
    },
    {
      "cell_type": "code",
      "source": [
        "model.summary()"
      ],
      "metadata": {
        "colab": {
          "base_uri": "https://localhost:8080/"
        },
        "id": "L00Zm8x459MB",
        "outputId": "650cb24d-08f2-4f3d-b0ae-a3c07f334e25"
      },
      "execution_count": null,
      "outputs": [
        {
          "output_type": "stream",
          "name": "stdout",
          "text": [
            "Model: \"sequential\"\n",
            "_________________________________________________________________\n",
            " Layer (type)                Output Shape              Param #   \n",
            "=================================================================\n",
            " conv2d (Conv2D)             (None, 30, 30, 32)        896       \n",
            "                                                                 \n",
            " max_pooling2d (MaxPooling2D  (None, 15, 15, 32)       0         \n",
            " )                                                               \n",
            "                                                                 \n",
            " conv2d_1 (Conv2D)           (None, 13, 13, 64)        18496     \n",
            "                                                                 \n",
            " max_pooling2d_1 (MaxPooling  (None, 6, 6, 64)         0         \n",
            " 2D)                                                             \n",
            "                                                                 \n",
            " conv2d_2 (Conv2D)           (None, 4, 4, 64)          36928     \n",
            "                                                                 \n",
            " flatten (Flatten)           (None, 1024)              0         \n",
            "                                                                 \n",
            " dense (Dense)               (None, 64)                65600     \n",
            "                                                                 \n",
            " dense_1 (Dense)             (None, 10)                650       \n",
            "                                                                 \n",
            "=================================================================\n",
            "Total params: 122,570\n",
            "Trainable params: 122,570\n",
            "Non-trainable params: 0\n",
            "_________________________________________________________________\n"
          ]
        }
      ]
    },
    {
      "cell_type": "code",
      "source": [
        "model.compile(optimizer='adam',\n",
        "loss=tf.keras.losses.SparseCategoricalCrossentropy(from_logits=True),\n",
        "metrics=['accuracy'])\n"
      ],
      "metadata": {
        "id": "Yhljlhk66GXL"
      },
      "execution_count": null,
      "outputs": []
    },
    {
      "cell_type": "code",
      "source": [
        "history = model.fit(train_images, train_labels, epochs=10,\n",
        "validation_data=(test_images, test_labels))\n"
      ],
      "metadata": {
        "colab": {
          "base_uri": "https://localhost:8080/"
        },
        "id": "eVS9Hkr-6Nut",
        "outputId": "fffb3ff6-c426-4489-968b-152836cedeb3"
      },
      "execution_count": null,
      "outputs": [
        {
          "output_type": "stream",
          "name": "stdout",
          "text": [
            "Epoch 1/10\n",
            "1563/1563 [==============================] - 83s 53ms/step - loss: 1.5055 - accuracy: 0.4557 - val_loss: 1.1985 - val_accuracy: 0.5770\n",
            "Epoch 2/10\n",
            "1563/1563 [==============================] - 78s 50ms/step - loss: 1.1320 - accuracy: 0.6014 - val_loss: 1.0676 - val_accuracy: 0.6261\n",
            "Epoch 3/10\n",
            "1563/1563 [==============================] - 76s 49ms/step - loss: 0.9748 - accuracy: 0.6556 - val_loss: 1.0061 - val_accuracy: 0.6506\n",
            "Epoch 4/10\n",
            "1563/1563 [==============================] - 78s 50ms/step - loss: 0.8825 - accuracy: 0.6906 - val_loss: 0.9767 - val_accuracy: 0.6707\n",
            "Epoch 5/10\n",
            "1563/1563 [==============================] - 76s 49ms/step - loss: 0.8059 - accuracy: 0.7192 - val_loss: 0.9129 - val_accuracy: 0.6876\n",
            "Epoch 6/10\n",
            "1563/1563 [==============================] - 78s 50ms/step - loss: 0.7537 - accuracy: 0.7356 - val_loss: 0.8510 - val_accuracy: 0.7098\n",
            "Epoch 7/10\n",
            "1563/1563 [==============================] - 78s 50ms/step - loss: 0.6993 - accuracy: 0.7567 - val_loss: 0.8377 - val_accuracy: 0.7190\n",
            "Epoch 8/10\n",
            "1563/1563 [==============================] - 78s 50ms/step - loss: 0.6531 - accuracy: 0.7709 - val_loss: 0.8465 - val_accuracy: 0.7175\n",
            "Epoch 9/10\n",
            "1563/1563 [==============================] - 76s 49ms/step - loss: 0.6104 - accuracy: 0.7849 - val_loss: 0.8269 - val_accuracy: 0.7250\n",
            "Epoch 10/10\n",
            "1563/1563 [==============================] - 78s 50ms/step - loss: 0.5743 - accuracy: 0.7977 - val_loss: 0.8723 - val_accuracy: 0.7218\n"
          ]
        }
      ]
    },
    {
      "cell_type": "code",
      "source": [
        "model.save('nutrition.h5')\n"
      ],
      "metadata": {
        "id": "w6hbLGsx7Llt"
      },
      "execution_count": null,
      "outputs": []
    },
    {
      "cell_type": "code",
      "source": [
        "from tensorflow.keras.models import load_model\n",
        "from tensorflow.keras.preprocessing import image\n",
        "model=load_model('nutrition.h5')\n"
      ],
      "metadata": {
        "id": "N1lwpOYe96yW"
      },
      "execution_count": null,
      "outputs": []
    },
    {
      "cell_type": "code",
      "source": [
        "img=image.load_img('/content/drive/MyDrive/IBM Project/Food/TEST_SET/APPLES/36_100.jpg',target_size=(70,70))\n",
        "img\n"
      ],
      "metadata": {
        "colab": {
          "base_uri": "https://localhost:8080/",
          "height": 87
        },
        "id": "RbD4Xqej-AAk",
        "outputId": "68989233-7c2e-4e1c-a741-1cc5cb0ee010"
      },
      "execution_count": null,
      "outputs": [
        {
          "output_type": "execute_result",
          "data": {
            "text/plain": [
              "<PIL.Image.Image image mode=RGB size=70x70 at 0x7FBAAF06AB50>"
            ],
            "image/png": "[encoded data removed]"
          },
          "metadata": {},
          "execution_count": 19
        }
      ]
    },
    {
      "cell_type": "code",
      "source": [
        "x= image.img_to_array(img)\n",
        "x = np.expand_dims(x, axis=0)\n"
      ],
      "metadata": {
        "id": "BY1TtMwuAN3g"
      },
      "execution_count": null,
      "outputs": []
    },
    {
      "cell_type": "code",
      "source": [
        "index=['APPLES', 'BANANA', 'ORANGE', 'PINEAPPLE', 'WATERMELON']\n",
        "result=str(index[0])\n",
        "result"
      ],
      "metadata": {
        "colab": {
          "base_uri": "https://localhost:8080/",
          "height": 36
        },
        "id": "5USQ2AjpAtvH",
        "outputId": "f04f82aa-ce13-4863-e6d2-c1007bed6f0a"
      },
      "execution_count": null,
      "outputs": [
        {
          "output_type": "execute_result",
          "data": {
            "text/plain": [
              "'APPLES'"
            ],
            "application/vnd.google.colaboratory.intrinsic+json": {
              "type": "string"
            }
          },
          "metadata": {},
          "execution_count": 23
        }
      ]
    },
    {
      "cell_type": "code",
      "source": [
        "img=image.load_img('/content/drive/MyDrive/IBM Project/Food/TEST_SET/WATERMELON/135_100.jpg',target_size=(70,70))\n",
        "img"
      ],
      "metadata": {
        "colab": {
          "base_uri": "https://localhost:8080/",
          "height": 87
        },
        "id": "B9m-HjsdA_cd",
        "outputId": "4a377a84-cfde-4463-d399-5a2017db8f04"
      },
      "execution_count": null,
      "outputs": [
        {
          "output_type": "execute_result",
          "data": {
            "text/plain": [
              "<PIL.Image.Image image mode=RGB size=70x70 at 0x7FBAB264FB50>"
            ],
            "image/png": "[encoded data removed]"
          },
          "metadata": {},
          "execution_count": 24
        }
      ]
    },
    {
      "cell_type": "code",
      "source": [
        "x= image.img_to_array(img)\n",
        "x = np.expand_dims(x, axis=0)"
      ],
      "metadata": {
        "id": "9O2-bHiIBU-6"
      },
      "execution_count": null,
      "outputs": []
    },
    {
      "cell_type": "code",
      "source": [
        "index=['APPLES', 'BANANA', 'ORANGE', 'PINEAPPLE', 'WATERMELON']\n",
        "result=str(index[4])\n",
        "result"
      ],
      "metadata": {
        "colab": {
          "base_uri": "https://localhost:8080/",
          "height": 36
        },
        "id": "m4ZHCYvaBdwR",
        "outputId": "866ef624-2cc6-4073-828f-7231b7f7c95f"
      },
      "execution_count": null,
      "outputs": [
        {
          "output_type": "execute_result",
          "data": {
            "text/plain": [
              "'WATERMELON'"
            ],
            "application/vnd.google.colaboratory.intrinsic+json": {
              "type": "string"
            }
          },
          "metadata": {},
          "execution_count": 28
        }
      ]
    },
    {
      "cell_type": "code",
      "source": [
        "img=image.load_img('/content/drive/MyDrive/IBM Project/Food/TEST_SET/PINEAPPLE/13_100.jpg',target_size=(70,70))\n",
        "img"
      ],
      "metadata": {
        "colab": {
          "base_uri": "https://localhost:8080/",
          "height": 87
        },
        "id": "FdqRUnfZFV4e",
        "outputId": "3e4bd1a8-25b6-4e05-8b9c-28c447ae5486"
      },
      "execution_count": null,
      "outputs": [
        {
          "output_type": "execute_result",
          "data": {
            "text/plain": [
              "<PIL.Image.Image image mode=RGB size=70x70 at 0x7FBAB26532D0>"
            ],
            "image/png": "[encoded data removed]"
          },
          "metadata": {},
          "execution_count": 31
        }
      ]
    },
    {
      "cell_type": "code",
      "source": [
        "index=['APPLES', 'BANANA', 'ORANGE', 'PINEAPPLE', 'WATERMELON']\n",
        "result=str(index[3])\n",
        "result"
      ],
      "metadata": {
        "colab": {
          "base_uri": "https://localhost:8080/",
          "height": 36
        },
        "id": "Cb5v2EuTB-2K",
        "outputId": "f4aa5251-0a8e-4e30-a043-f8903658db58"
      },
      "execution_count": 32,
      "outputs": [
        {
          "output_type": "execute_result",
          "data": {
            "text/plain": [
              "'PINEAPPLE'"
            ],
            "application/vnd.google.colaboratory.intrinsic+json": {
              "type": "string"
            }
          },
          "metadata": {},
          "execution_count": 32
        }
      ]
    }
  ]
}